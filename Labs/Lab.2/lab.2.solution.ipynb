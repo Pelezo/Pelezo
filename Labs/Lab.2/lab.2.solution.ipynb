{
 "cells": [
  {
   "cell_type": "markdown",
   "metadata": {
    "id": "8hpez1l_nwz0"
   },
   "source": [
    "#**Lab 2- Tic Tac Toe**\n",
    "\n",
    "In this lab your will build a n x n Tic Tac Toe game. As you do the exercises, make sure your solutions work for any size Tic Tac Toe game.\n",
    "\n",
    "Exercise 1: Write a function that creates an n by n matrix (of list of lists) which will represent the state of a Tie Tac Toe game. Let 0, 1, and 2 represent empty, \"X\", and \"O\", respectively."
   ]
  },
  {
   "cell_type": "code",
   "execution_count": 21,
   "metadata": {
    "id": "GL5ieAfwlw0l"
   },
   "outputs": [],
   "source": [
    "## write your solution here\n",
    "def create_tic_tac_toe_board(n):\n",
    "  return [[0] * n for _ in range(n)]\n",
    "\n"
   ]
  },
  {
   "cell_type": "code",
   "execution_count": 22,
   "metadata": {
    "colab": {
     "base_uri": "https://localhost:8080/"
    },
    "id": "n2EoAocEmIk6",
    "outputId": "9ea13e6d-8ae7-41ba-cb52-2277e2994c19"
   },
   "outputs": [
    {
     "name": "stdout",
     "output_type": "stream",
     "text": [
      "[[0, 0, 0], [0, 0, 0], [0, 0, 0]]\n"
     ]
    }
   ],
   "source": [
    "## test  your solution here\n",
    "n = 3\n",
    "tic_tac_toe_board = create_tic_tac_toe_board(n)\n",
    "print(tic_tac_toe_board)"
   ]
  },
  {
   "cell_type": "markdown",
   "metadata": {
    "id": "CVh_PKyJoDxi"
   },
   "source": [
    "Exercise 2: Write a function that takes 2 integers n and m as input and draws a n by m game board. For example the following is a 3x3 board:"
   ]
  },
  {
   "cell_type": "code",
   "execution_count": 23,
   "metadata": {
    "id": "rbq6jGaimIyk"
   },
   "outputs": [],
   "source": [
    "## write your solution here\n",
    "def draw_game_board(n, m):\n",
    "    for _ in range(n):\n",
    "        print(\" ---\" * m)\n",
    "        print(\"|   \" * (m + 1))\n",
    "    print(\" ---\" * m)\n"
   ]
  },
  {
   "cell_type": "code",
   "execution_count": 24,
   "metadata": {
    "colab": {
     "base_uri": "https://localhost:8080/"
    },
    "id": "Nabsxp-BmbdW",
    "outputId": "611b0b28-3411-4a21-f041-5cb3cc4c5121"
   },
   "outputs": [
    {
     "name": "stdout",
     "output_type": "stream",
     "text": [
      " --- --- ---\n",
      "|   |   |   |   \n",
      " --- --- ---\n",
      "|   |   |   |   \n",
      " --- --- ---\n",
      "|   |   |   |   \n",
      " --- --- ---\n"
     ]
    }
   ],
   "source": [
    "## test  your solution here\n",
    "draw_game_board(3, 3)"
   ]
  },
  {
   "cell_type": "markdown",
   "metadata": {
    "id": "nsYY1YkEoPan"
   },
   "source": [
    "\n",
    "Exercise 3: Modify exercise 2, so that it takes a matrix of the form from exercise 1 and draws a tic-tac-tie board with \"X\"s and \"O\"s."
   ]
  },
  {
   "cell_type": "code",
   "execution_count": 25,
   "metadata": {
    "id": "dvUP0kITmb5W"
   },
   "outputs": [],
   "source": [
    "## write your solution here\n",
    "def draw_tic_tac_toe_board(board):\n",
    " n = len(board)\n",
    " for row in board:\n",
    "        print(\" ---\" * n)\n",
    "        for cell in row:\n",
    "            if cell == 0:\n",
    "                print(\"|   \", end=\"\")\n",
    "            elif cell == 1:\n",
    "                print(\"| X \", end=\"\")\n",
    "            elif cell == 2:\n",
    "                print(\"| O \", end=\"\")\n",
    "        print(\"|\")\n",
    " print(\" ---\" * n)"
   ]
  },
  {
   "cell_type": "code",
   "execution_count": 26,
   "metadata": {
    "colab": {
     "base_uri": "https://localhost:8080/"
    },
    "id": "jb4YKHjKmcBB",
    "outputId": "0b8f3db9-6db4-4cd1-809f-0d233cb285ad"
   },
   "outputs": [
    {
     "name": "stdout",
     "output_type": "stream",
     "text": [
      " --- --- ---\n",
      "| O | O |   |\n",
      " --- --- ---\n",
      "| O | X |   |\n",
      " --- --- ---\n",
      "| O | X | X |\n",
      " --- --- ---\n"
     ]
    }
   ],
   "source": [
    "## test your solution here\n",
    "tic_tac_toe_board = [[2, 2, 0], [2, 1, 0], [2, 1, 1]]\n",
    "draw_tic_tac_toe_board(tic_tac_toe_board)"
   ]
  },
  {
   "cell_type": "code",
   "execution_count": null,
   "metadata": {
    "id": "54bWvwlQXOnN"
   },
   "outputs": [],
   "source": [
    "winner_is_2 = [[2, 2, 0],\n",
    "\t[2, 1, 0],\n",
    "\t[2, 1, 1]]\n",
    "\n",
    "winner_is_1 = [[1, 2, 0],\n",
    "\t[2, 1, 0],\n",
    "\t[2, 1, 1]]\n",
    "\n",
    "winner_is_also_1 = [[0, 1, 0],\n",
    "\t[2, 1, 0],\n",
    "\t[2, 1, 1]]\n",
    "\n",
    "no_winner = [[1, 2, 0],\n",
    "\t[2, 1, 0],\n",
    "\t[2, 1, 2]]\n",
    "\n",
    "also_no_winner = [[1, 2, 0],\n",
    "\t[2, 1, 0],\n",
    "\t[2, 1, 0]]\n",
    "\n",
    "Tictactoe = [[0,0,0],\n",
    "\t [0,0,0],\n",
    "\t [0,0,0,]]\n",
    "\n",
    "\n"
   ]
  },
  {
   "cell_type": "markdown",
   "metadata": {
    "id": "Ugh0kE8loa4c"
   },
   "source": [
    "Exercise 4: Write a function that takes a n by n matrix representing a tic-tac-toe game, and returns -1, 0, 1, or 2 indicating the game is incomplete, the game is a draw, player 1 has won, or player 2 has one, respectively. Here are some example inputs you can use to test your code:"
   ]
  },
  {
   "cell_type": "code",
   "execution_count": 28,
   "metadata": {
    "id": "O1GnjFAYmcE_"
   },
   "outputs": [],
   "source": [
    " ## write your solution here\n",
    "def check_board(board):\n",
    "  # Check for a win by player 1.\n",
    "  for i in range(3):\n",
    "    if board[i][0] == board[i][1] == board[i][2] == 1:\n",
    "      return 1\n",
    "    if board[0][i] == board[1][i] == board[2][i] == 1:\n",
    "      return 1\n",
    "\n",
    "  # Check for a win by player 2.\n",
    "  for i in range(3):\n",
    "    if board[i][0] == board[i][1] == board[i][2] == 2:\n",
    "      return 2\n",
    "    if board[0][i] == board[1][i] == board[2][i] == 2:\n",
    "      return 2\n",
    "\n",
    "  # Check for a draw.\n",
    "  if not any(0 in row for row in board):\n",
    "    return 0\n",
    "\n",
    "  # Otherwise, the game is incomplete.\n",
    "  return -1\n",
    "\n"
   ]
  },
  {
   "cell_type": "code",
   "execution_count": 29,
   "metadata": {
    "colab": {
     "base_uri": "https://localhost:8080/"
    },
    "id": "NWIiGcJcmcGQ",
    "outputId": "e096973a-df00-4979-9b1d-5e2d176daa4c"
   },
   "outputs": [
    {
     "name": "stdout",
     "output_type": "stream",
     "text": [
      "2\n"
     ]
    }
   ],
   "source": [
    "##  test your solution here\n",
    "winner_is_1 = [[2, 2, 0], [2, 1, 0], [2, 1, 1]]\n",
    "print(check_board(winner_is_1))  # Output: 1 (Player 2 wins)"
   ]
  },
  {
   "cell_type": "markdown",
   "metadata": {
    "id": "-ZeljX1Pon0B"
   },
   "source": [
    "Exercise 5: Write a function that takes a game board, player number, and (x,y) coordinates and places \"X\" or \"O\" in the correct location of the game board. Make sure that you only allow filling previously empty locations. Return True or False to indicate successful placement of \"X\" or \"O\"."
   ]
  },
  {
   "cell_type": "code",
   "execution_count": 30,
   "metadata": {
    "id": "K9N0-cXzmI2X"
   },
   "outputs": [],
   "source": [
    "## write your solution here\n",
    "def moving_pieces(board, player_number, x, y):\n",
    "    if board[x][y] == 0:\n",
    "        board[x][y] = player_number\n",
    "        return True\n",
    "    return False"
   ]
  },
  {
   "cell_type": "code",
   "execution_count": 31,
   "metadata": {
    "colab": {
     "base_uri": "https://localhost:8080/"
    },
    "id": "krjAkbvqogYH",
    "outputId": "0e1c1395-f84b-499e-b61c-de4fa85e2863"
   },
   "outputs": [
    {
     "name": "stdout",
     "output_type": "stream",
     "text": [
      "True\n",
      "False\n",
      "True\n"
     ]
    }
   ],
   "source": [
    "## test your solution here\n",
    "matrix=[[0, 0, 0], [0, 0, 0], [0, 0, 0]]\n",
    "print(moving_pieces(matrix, 1, 0, 0)) # True\n",
    "print(moving_pieces(matrix, 2, 0, 0)) # False\n",
    "print(moving_pieces(matrix, 2, 1, 1)) # True"
   ]
  },
  {
   "cell_type": "markdown",
   "metadata": {
    "id": "6tfAEBxGo7E1"
   },
   "source": [
    "Exercise 6: Modify Exercise 4 to show column and row labels so that players can specify A2 or C1"
   ]
  },
  {
   "cell_type": "code",
   "execution_count": 32,
   "metadata": {
    "id": "eGzYpmoKogae"
   },
   "outputs": [],
   "source": [
    "## write your solution here\n",
    "def display_board(board):\n",
    " # Print column labels.\n",
    "  print(\"  A B C\")\n",
    "  # Print each row with row label.\n",
    "  for i in range(3):\n",
    "    print(f\"{i+1} \", end=\"\")\n",
    "    for j in range(3):\n",
    "      if board[i][j] == 0:\n",
    "        print(\"\", end=\"\")\n",
    "      elif board[i][j] == 1:\n",
    "        print(\"X\", end=\" \")\n",
    "      else:\n",
    "        print(\"O\", end=\" \")\n",
    "    print()\n"
   ]
  },
  {
   "cell_type": "code",
   "execution_count": 33,
   "metadata": {
    "colab": {
     "base_uri": "https://localhost:8080/"
    },
    "id": "ZnLEcp3fYl6M",
    "outputId": "942a77e0-2fe0-4271-bffb-42027c11611d"
   },
   "outputs": [
    {
     "name": "stdout",
     "output_type": "stream",
     "text": [
      "  A B C\n",
      "1 O O \n",
      "2 O X \n",
      "3 O X X \n"
     ]
    }
   ],
   "source": [
    "## test your solution here\n",
    "display_board(winner_is_1)"
   ]
  },
  {
   "cell_type": "markdown",
   "metadata": {
    "id": "jc5V4Q1apGAn"
   },
   "source": [
    "Exercise 7: Write a function that takes a board, player number, and location specified as in exercise 6 and then calls exercise 5 to correctly modify the board."
   ]
  },
  {
   "cell_type": "code",
   "execution_count": 34,
   "metadata": {
    "id": "ATFPriDL8RyL"
   },
   "outputs": [],
   "source": [
    "## write your solution here\n",
    "def Make_Move(board, player_number, location):\n",
    "    # Convert location to coordinates\n",
    "    column_labels = ['A', 'B', 'C']\n",
    "    column = column_labels.index(location[0].upper())\n",
    "    row = int(location[1]) - 1\n",
    "\n",
    "    # Check if the move is valid and update the board\n",
    "    if column in range(3) and row in range(3):\n",
    "        success = moving_pieces(board, player_number, row, column)\n",
    "        if success:\n",
    "            return True\n",
    "        else:\n",
    "            print(\"Invalid move. Please try again.\")\n",
    "            return False\n",
    "    else:\n",
    "        print(\"Invalid location. Please enter a location like 'A1', 'B2', or 'C3'.\")\n",
    "        return False\n",
    "# Define the print_board function\n",
    "def print_board(matrix):\n",
    "    print(\"   A   B   C\")\n",
    "    for i in range(3):\n",
    "        print(i + 1, end=\"  \")\n",
    "        for j in range(3):\n",
    "            print(matrix[i][j], end=\"  \")\n",
    "        print(\"\\n\")\n"
   ]
  },
  {
   "cell_type": "code",
   "execution_count": 35,
   "metadata": {
    "colab": {
     "base_uri": "https://localhost:8080/"
    },
    "id": "6hH9mPZqLHfr",
    "outputId": "333ae228-08fc-49c8-f53f-8ed29ae5a0ec"
   },
   "outputs": [
    {
     "name": "stdout",
     "output_type": "stream",
     "text": [
      "  A B C\n",
      "1 O O \n",
      "2 O X O \n",
      "3 O X X \n"
     ]
    }
   ],
   "source": [
    "##Test your solution here\n",
    "##Player 2 (0)\n",
    "Make_Move(winner_is_1,2,'C2')\n",
    "display_board(winner_is_1)\n"
   ]
  },
  {
   "cell_type": "code",
   "execution_count": 36,
   "metadata": {
    "colab": {
     "base_uri": "https://localhost:8080/"
    },
    "id": "DYD70B8DPvZa",
    "outputId": "773f1bba-6062-4534-972f-dd7f917c8f2a"
   },
   "outputs": [
    {
     "name": "stdout",
     "output_type": "stream",
     "text": [
      "  A B C\n",
      "1 O O X \n",
      "2 O X \n",
      "3 O X X \n"
     ]
    }
   ],
   "source": [
    "# Player 1 (X) makes a move at location 'C1'\n",
    "Make_Move(winner_is_2 , 1, 'C1')\n",
    "display_board(winner_is_2)  # Print the board after the move"
   ]
  },
  {
   "cell_type": "code",
   "execution_count": 37,
   "metadata": {
    "colab": {
     "base_uri": "https://localhost:8080/"
    },
    "id": "OLtTklOVqw69",
    "outputId": "cb19acc0-ae23-4fea-b377-f0e8f5ebfb8e"
   },
   "outputs": [
    {
     "name": "stdout",
     "output_type": "stream",
     "text": [
      "  A B C\n",
      "1 \n",
      "2 \n",
      "3 \n"
     ]
    }
   ],
   "source": [
    "display_board(Tictactoe)"
   ]
  },
  {
   "cell_type": "markdown",
   "metadata": {
    "id": "vBfFkOCzpNwq"
   },
   "source": [
    "Exercise 8: Write a function is called with a board and player number, takes input from the player using python's input, and modifies the board using your function from exercise 7. Note that you should keep asking for input until you have gotten a valid input that results in a valid move."
   ]
  },
  {
   "cell_type": "code",
   "execution_count": 38,
   "metadata": {
    "id": "KOGusfT8E_Bg"
   },
   "outputs": [],
   "source": [
    "## write your solution here\n",
    "def get_player_move(board, player_number):\n",
    "    while True:\n",
    "        try:\n",
    "            # Prompt the player for input\n",
    "            location = input(f\"Player {player_number}, enter your move (e.g., 'A1', 'B2', 'C3'): \").strip().upper()\n",
    "\n",
    "            # Check if the input is valid and if the move was successful\n",
    "            if len(location) != 2 or location[0] not in 'ABC' or location[1] not in '123':\n",
    "                raise ValueError(\"Invalid input. Please enter a valid location like 'A1', 'B2', or 'C3'.\")\n",
    "\n",
    "            if Make_Move(board, player_number, location):\n",
    "                break  # Valid move, exit the loop\n",
    "            else:\n",
    "                print(\"Invalid move. Please try again.\")\n",
    "\n",
    "        except ValueError as e:\n",
    "            print(str(e))  # Print the error message"
   ]
  },
  {
   "cell_type": "code",
   "execution_count": 45,
   "metadata": {
    "colab": {
     "base_uri": "https://localhost:8080/"
    },
    "id": "DRx-IBFbSggk",
    "outputId": "99c13cfa-c59a-49f8-fc5f-409ec3bed391"
   },
   "outputs": [
    {
     "name": "stdout",
     "output_type": "stream",
     "text": [
      "[[0, 0, 0], [0, 0, 0], [0, 0, 0]]\n",
      "  A B C\n",
      "1 \n",
      "2 \n",
      "3 X \n",
      "  A B C\n",
      "1 O \n",
      "2 \n",
      "3 X \n",
      "  A B C\n",
      "1 O \n",
      "2 X \n",
      "3 X \n",
      "  A B C\n",
      "1 O \n",
      "2 X O \n",
      "3 X \n",
      "  A B C\n",
      "1 O \n",
      "2 X O \n",
      "3 X X \n",
      "  A B C\n",
      "1 O O \n",
      "2 X O \n",
      "3 X X \n",
      "  A B C\n",
      "1 O O \n",
      "2 X O X \n",
      "3 X X \n",
      "  A B C\n",
      "1 O O O \n",
      "2 X O X \n",
      "3 X X \n",
      "Invalid move. Please try again.\n",
      "Invalid move. Please try again.\n",
      "Invalid input. Please enter a valid location like 'A1', 'B2', or 'C3'.\n",
      "Invalid input. Please enter a valid location like 'A1', 'B2', or 'C3'.\n",
      "Invalid input. Please enter a valid location like 'A1', 'B2', or 'C3'.\n",
      "Invalid input. Please enter a valid location like 'A1', 'B2', or 'C3'.\n",
      "Invalid input. Please enter a valid location like 'A1', 'B2', or 'C3'.\n",
      "Invalid input. Please enter a valid location like 'A1', 'B2', or 'C3'.\n",
      "Invalid input. Please enter a valid location like 'A1', 'B2', or 'C3'.\n",
      "Invalid input. Please enter a valid location like 'A1', 'B2', or 'C3'.\n",
      "Invalid input. Please enter a valid location like 'A1', 'B2', or 'C3'.\n",
      "Invalid input. Please enter a valid location like 'A1', 'B2', or 'C3'.\n",
      "Invalid input. Please enter a valid location like 'A1', 'B2', or 'C3'.\n"
     ]
    }
   ],
   "source": [
    "##test your solution here\n",
    "board = [[0, 0, 0], [0, 0, 0], [0, 0, 0]]\n",
    "print(board)\n",
    "for turn in range(9):  # There are at most 9 turns in a tic-tac-toe game\n",
    "    player_number = 1 if turn % 2 == 0 else 2\n",
    "    get_player_move(board , player_number)\n",
    "    display_board(board)\n",
    "    "
   ]
  },
  {
   "cell_type": "markdown",
   "metadata": {
    "id": "dDATSgzOpOvK"
   },
   "source": [
    "Exercise 9: Use all of the previous exercises to implement a full tic-tac-toe game, where an appropriate board is drawn, 2 players are repeatedly asked for a location coordinates of where they wish to place a mark, and the game status is checked until a player wins or a draw occurs."
   ]
  },
  {
   "cell_type": "code",
   "execution_count": 42,
   "metadata": {
    "id": "aWvpdq4sCCuy"
   },
   "outputs": [
    {
     "name": "stdout",
     "output_type": "stream",
     "text": [
      "Welcome to Tic-Tac-Toe!\n",
      "Player 1 make a move \n",
      "  A B C\n",
      "1 \n",
      "2 \n",
      "3 \n",
      "  A B C\n",
      "1 \n",
      "2 X \n",
      "3 \n",
      "Player 1 Good move\n"
     ]
    }
   ],
   "source": [
    "#Write your solution here\n",
    "def check_winner(board):\n",
    "    # Check rows, columns, and diagonals for a win\n",
    "    for i in range(3):\n",
    "        if board[i][0] == board[i][1] == board[i][2] != ' ':\n",
    "            return True\n",
    "        if board[0][i] == board[1][i] == board[2][i] != ' ':\n",
    "            return True\n",
    "    if board[0][0] == board[1][1] == board[2][2] != ' ':\n",
    "        return True\n",
    "    if board[0][2] == board[1][1] == board[2][0] != ' ':\n",
    "        return True\n",
    "    return False\n",
    "\n",
    "def is_draw(board):\n",
    "    # Check if the game is a draw (all cells are filled)\n",
    "    for row in board:\n",
    "        if ' ' in row:\n",
    "            return False\n",
    "    return True\n",
    "\n",
    "def play_tic_tac_toe():\n",
    "    board = [[0, 0, 0], [0, 0, 0], [0, 0, 0]]\n",
    "    print(\"Welcome to Tic-Tac-Toe!\")\n",
    "\n",
    "    # Players take turns making moves until someone wins or it's a draw\n",
    "    for turn in range(9):  # There are at most 9 turns in a tic-tac-toe game\n",
    "        if player_number==1:\n",
    "         print(\"Player 1 make a move \")\n",
    "         display_board(board)\n",
    "        while True:\n",
    "            try:\n",
    "                # Prompt the player for input\n",
    "                location = input(f\"Enter your move (e.g., 'A1', 'B2', 'C3'): \").strip().upper()\n",
    "\n",
    "                # Check if the input is valid and if the move was successful\n",
    "                if len(location) != 2 or location[0] not in 'ABC' or location[1] not in '123':\n",
    "                    raise ValueError(\"Invalid input. Please enter a valid location like 'A1', 'B2', or 'C3'.\")\n",
    "\n",
    "                if Make_Move(board, player_number, location):\n",
    "                    break  # Valid move, exit the loop\n",
    "                else:\n",
    "                    print(\"Invalid move. Please try again.\")\n",
    "\n",
    "            except ValueError as e:\n",
    "                print(str(e))  # Print the error message\n",
    "\n",
    "        # Check for a winner or a draw\n",
    "        if check_winner(board):\n",
    "            display_board(board)\n",
    "            print(f\"Player {player_number} Good move\")\n",
    "            break\n",
    "        elif is_draw(board):\n",
    "            display_board(board)\n",
    "            print(\"It's a draw!\")\n",
    "            break\n",
    "\n",
    "if __name__ == \"__main__\":\n",
    "    play_tic_tac_toe()"
   ]
  },
  {
   "cell_type": "markdown",
   "metadata": {},
   "source": [
    "Exercise 10: Test that your game works for 5x5 Tic Tac Toe.\n"
   ]
  },
  {
   "cell_type": "markdown",
   "metadata": {
    "id": "HmWZ-TNNpVav"
   },
   "source": [
    "Exercise 11: (Advanced / Challenge) Develop a version of the game where one player is the computer. Note that you don't need to do an extensive seach for the best move. You can have the computer simply protect against loosing and otherwise try to win with straight or diagonal patterns."
   ]
  },
  {
   "cell_type": "code",
   "execution_count": null,
   "metadata": {
    "id": "e9Ea6vxTCCOw"
   },
   "outputs": [],
   "source": []
  }
 ],
 "metadata": {
  "colab": {
   "provenance": []
  },
  "kernelspec": {
   "display_name": "Python 3 (ipykernel)",
   "language": "python",
   "name": "python3"
  },
  "language_info": {
   "codemirror_mode": {
    "name": "ipython",
    "version": 3
   },
   "file_extension": ".py",
   "mimetype": "text/x-python",
   "name": "python",
   "nbconvert_exporter": "python",
   "pygments_lexer": "ipython3",
   "version": "3.9.6"
  }
 },
 "nbformat": 4,
 "nbformat_minor": 4
}
